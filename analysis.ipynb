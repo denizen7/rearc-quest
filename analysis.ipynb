{
 "cells": [
  {
   "cell_type": "markdown",
   "metadata": {
    "application/vnd.databricks.v1+cell": {
     "cellMetadata": {
      "byteLimit": 2048000,
      "rowLimit": 10000
     },
     "inputWidgets": {},
     "nuid": "353a240e-d5f7-4bf7-8f61-b99eadd63db9",
     "showTitle": false,
     "tableResultSettingsMap": {},
     "title": ""
    }
   },
   "source": [
    "### Setup: Paths and Imports"
   ]
  },
  {
   "cell_type": "code",
   "execution_count": 0,
   "metadata": {
    "application/vnd.databricks.v1+cell": {
     "cellMetadata": {
      "byteLimit": 2048000,
      "rowLimit": 10000
     },
     "inputWidgets": {},
     "nuid": "d9ea10dd-6053-453e-8a3a-4809c04135f6",
     "showTitle": false,
     "tableResultSettingsMap": {},
     "title": ""
    }
   },
   "outputs": [],
   "source": [
    "from pyspark.sql.functions import col, explode, trim, avg, stddev_pop, row_number, round\n",
    "from pyspark.sql.types import IntegerType, DoubleType\n",
    "from pyspark.sql.window import Window"
   ]
  },
  {
   "cell_type": "code",
   "execution_count": 0,
   "metadata": {
    "application/vnd.databricks.v1+cell": {
     "cellMetadata": {
      "byteLimit": 2048000,
      "rowLimit": 10000
     },
     "inputWidgets": {},
     "nuid": "c0f20489-34f2-43ec-b91b-03c32ed1dc31",
     "showTitle": false,
     "tableResultSettingsMap": {},
     "title": ""
    }
   },
   "outputs": [],
   "source": [
    "# S3 paths\n",
    "bucket_name = \"rearc-quest-897729141725-us-east-1\"\n",
    "bls_path = f\"s3a://{bucket_name}/bls/files/pr.data.0.Current\"\n",
    "population_path = f\"s3a://{bucket_name}/datausa/population.json\""
   ]
  },
  {
   "cell_type": "markdown",
   "metadata": {
    "application/vnd.databricks.v1+cell": {
     "cellMetadata": {
      "byteLimit": 2048000,
      "rowLimit": 10000
     },
     "inputWidgets": {},
     "nuid": "55a00a7c-10b9-40f8-93ae-3074559806a2",
     "showTitle": false,
     "tableResultSettingsMap": {},
     "title": ""
    }
   },
   "source": [
    "### Load & Clean BLS Data (Tab-delimited)"
   ]
  },
  {
   "cell_type": "code",
   "execution_count": 0,
   "metadata": {
    "application/vnd.databricks.v1+cell": {
     "cellMetadata": {
      "byteLimit": 2048000,
      "rowLimit": 10000
     },
     "inputWidgets": {},
     "nuid": "8a45745d-12ea-49a4-ad66-3438be405ed2",
     "showTitle": false,
     "tableResultSettingsMap": {},
     "title": ""
    }
   },
   "outputs": [],
   "source": [
    "# Load CSV\n",
    "bls_df = spark.read.option(\"delimiter\", \"\\t\").option(\"header\", True).csv(bls_path)\n",
    "\n",
    "# Normalize column names\n",
    "bls_df = bls_df.select([col(c).alias(c.strip().lower().replace(\" \", \"_\")) for c in bls_df.columns])\n",
    "\n",
    "# Trim all string columns\n",
    "bls_df = bls_df.select([\n",
    "    trim(col(c)).alias(c) if t == \"string\" else col(c)\n",
    "    for c, t in bls_df.dtypes\n",
    "])\n",
    "\n",
    "# Cast numeric columns\n",
    "bls_df = bls_df.withColumn(\"value\", col(\"value\").cast(DoubleType()))\n",
    "bls_df = bls_df.withColumn(\"year\", col(\"year\").cast(IntegerType()))"
   ]
  },
  {
   "cell_type": "markdown",
   "metadata": {
    "application/vnd.databricks.v1+cell": {
     "cellMetadata": {
      "byteLimit": 2048000,
      "rowLimit": 10000
     },
     "inputWidgets": {},
     "nuid": "3381fb30-b3fb-44bf-82b5-d0ed50eeccc4",
     "showTitle": false,
     "tableResultSettingsMap": {},
     "title": ""
    }
   },
   "source": [
    "### Load & Clean Population Data (JSON)\n"
   ]
  },
  {
   "cell_type": "code",
   "execution_count": 0,
   "metadata": {
    "application/vnd.databricks.v1+cell": {
     "cellMetadata": {
      "byteLimit": 2048000,
      "rowLimit": 10000
     },
     "inputWidgets": {},
     "nuid": "275a90d6-5a41-4f7c-be2e-dbdb40c6dee3",
     "showTitle": false,
     "tableResultSettingsMap": {},
     "title": ""
    }
   },
   "outputs": [],
   "source": [
    "# Load JSON and explode the 'data' array\n",
    "population_raw = spark.read.option(\"multiLine\", True).json(population_path)\n",
    "population_df = population_raw.select(explode(\"data\").alias(\"record\")).select(\"record.*\")\n",
    "\n",
    "# Normalize column names\n",
    "population_df = population_df.select([col(c).alias(c.strip().lower().replace(\" \", \"_\")) for c in population_df.columns])\n",
    "\n",
    "# Trim strings and cast numeric fields\n",
    "population_df = population_df.select([\n",
    "    trim(col(c)).alias(c) if t == \"string\" else col(c)\n",
    "    for c, t in population_df.dtypes\n",
    "])\n",
    "population_df = population_df.withColumn(\"year\", col(\"year\").cast(IntegerType()))\n",
    "population_df = population_df.withColumn(\"population\", col(\"population\").cast(IntegerType()))\n"
   ]
  },
  {
   "cell_type": "markdown",
   "metadata": {
    "application/vnd.databricks.v1+cell": {
     "cellMetadata": {
      "byteLimit": 2048000,
      "rowLimit": 10000
     },
     "inputWidgets": {},
     "nuid": "ff375ac9-0338-4c6f-ab66-da78edf68e12",
     "showTitle": false,
     "tableResultSettingsMap": {},
     "title": ""
    }
   },
   "source": [
    "### Task 1: Population Stats (2013–2018)\n"
   ]
  },
  {
   "cell_type": "code",
   "execution_count": 0,
   "metadata": {
    "application/vnd.databricks.v1+cell": {
     "cellMetadata": {
      "byteLimit": 2048000,
      "rowLimit": 10000
     },
     "inputWidgets": {},
     "nuid": "98f3dbde-a3b6-431b-ab91-c0f161542e30",
     "showTitle": false,
     "tableResultSettingsMap": {},
     "title": ""
    }
   },
   "outputs": [
    {
     "data": {
      "text/html": [
       "<style scoped>\n",
       "  .table-result-container {\n",
       "    max-height: 300px;\n",
       "    overflow: auto;\n",
       "  }\n",
       "  table, th, td {\n",
       "    border: 1px solid black;\n",
       "    border-collapse: collapse;\n",
       "  }\n",
       "  th, td {\n",
       "    padding: 5px;\n",
       "  }\n",
       "  th {\n",
       "    text-align: left;\n",
       "  }\n",
       "</style><div class='table-result-container'><table class='table-result'><thead style='background-color: white'><tr><th>mean_population</th><th>stddev_population</th></tr></thead><tbody><tr><td>3.17437383E8</td><td>3886173.29</td></tr></tbody></table></div>"
      ]
     },
     "metadata": {
      "application/vnd.databricks.v1+output": {
       "addedWidgets": {},
       "aggData": [],
       "aggError": "",
       "aggOverflow": false,
       "aggSchema": [],
       "aggSeriesLimitReached": false,
       "aggType": "",
       "arguments": {},
       "columnCustomDisplayInfos": {},
       "data": [
        [
         317437383,
         3886173.29
        ]
       ],
       "datasetInfos": [],
       "dbfsResultPath": null,
       "isJsonSchema": true,
       "metadata": {},
       "overflow": false,
       "plotOptions": {
        "customPlotOptions": {},
        "displayType": "table",
        "pivotAggregation": null,
        "pivotColumns": null,
        "xColumns": null,
        "yColumns": null
       },
       "removedWidgets": [],
       "schema": [
        {
         "metadata": "{}",
         "name": "mean_population",
         "type": "\"double\""
        },
        {
         "metadata": "{}",
         "name": "stddev_population",
         "type": "\"double\""
        }
       ],
       "type": "table"
      }
     },
     "output_type": "display_data"
    }
   ],
   "source": [
    "pop_stats_df = (\n",
    "    population_df\n",
    "    .filter((col(\"year\") >= 2013) & (col(\"year\") <= 2018))\n",
    "    .select(\n",
    "        round(avg(\"population\"), 2).alias(\"mean_population\"),\n",
    "        round(stddev_pop(\"population\"), 2).alias(\"stddev_population\")\n",
    "    )\n",
    ")\n",
    "pop_stats_df.display()"
   ]
  },
  {
   "cell_type": "markdown",
   "metadata": {
    "application/vnd.databricks.v1+cell": {
     "cellMetadata": {
      "byteLimit": 2048000,
      "rowLimit": 10000
     },
     "inputWidgets": {},
     "nuid": "67a5ea70-6bf7-46b2-a87c-a8a26da6d096",
     "showTitle": false,
     "tableResultSettingsMap": {},
     "title": ""
    }
   },
   "source": [
    "### Task 2: Best Year per Series ID"
   ]
  },
  {
   "cell_type": "code",
   "execution_count": 0,
   "metadata": {
    "application/vnd.databricks.v1+cell": {
     "cellMetadata": {
      "byteLimit": 2048000,
      "rowLimit": 10000
     },
     "inputWidgets": {},
     "nuid": "843eca84-d1b3-4d80-a06e-19168d2081c8",
     "showTitle": false,
     "tableResultSettingsMap": {},
     "title": ""
    }
   },
   "outputs": [
    {
     "data": {
      "text/html": [
       "<style scoped>\n",
       "  .table-result-container {\n",
       "    max-height: 300px;\n",
       "    overflow: auto;\n",
       "  }\n",
       "  table, th, td {\n",
       "    border: 1px solid black;\n",
       "    border-collapse: collapse;\n",
       "  }\n",
       "  th, td {\n",
       "    padding: 5px;\n",
       "  }\n",
       "  th {\n",
       "    text-align: left;\n",
       "  }\n",
       "</style><div class='table-result-container'><table class='table-result'><thead style='background-color: white'><tr><th>series_id</th><th>year</th><th>yearly_sum</th></tr></thead><tbody><tr><td>PRS30006011</td><td>2022</td><td>20.5</td></tr><tr><td>PRS30006012</td><td>2022</td><td>17.1</td></tr><tr><td>PRS30006013</td><td>1998</td><td>705.9</td></tr><tr><td>PRS30006021</td><td>2010</td><td>17.7</td></tr><tr><td>PRS30006022</td><td>2010</td><td>12.4</td></tr><tr><td>PRS30006023</td><td>2014</td><td>503.22</td></tr><tr><td>PRS30006031</td><td>2022</td><td>20.5</td></tr><tr><td>PRS30006032</td><td>2021</td><td>17.1</td></tr><tr><td>PRS30006033</td><td>1998</td><td>702.67</td></tr><tr><td>PRS30006061</td><td>2022</td><td>37.0</td></tr><tr><td>PRS30006062</td><td>2021</td><td>31.6</td></tr><tr><td>PRS30006063</td><td>2024</td><td>647.52</td></tr><tr><td>PRS30006081</td><td>2021</td><td>24.4</td></tr><tr><td>PRS30006082</td><td>2021</td><td>24.4</td></tr><tr><td>PRS30006083</td><td>2021</td><td>110.74</td></tr><tr><td>PRS30006091</td><td>2002</td><td>43.3</td></tr><tr><td>PRS30006092</td><td>2002</td><td>44.4</td></tr><tr><td>PRS30006093</td><td>2013</td><td>514.16</td></tr><tr><td>PRS30006101</td><td>2020</td><td>33.5</td></tr><tr><td>PRS30006102</td><td>2020</td><td>36.2</td></tr><tr><td>PRS30006103</td><td>2024</td><td>645.69</td></tr><tr><td>PRS30006111</td><td>2020</td><td>34.2</td></tr><tr><td>PRS30006112</td><td>2008</td><td>42.7</td></tr><tr><td>PRS30006113</td><td>2024</td><td>654.93</td></tr><tr><td>PRS30006131</td><td>2021</td><td>18.5</td></tr><tr><td>PRS30006132</td><td>2021</td><td>18.5</td></tr><tr><td>PRS30006133</td><td>2021</td><td>114.16</td></tr><tr><td>PRS30006151</td><td>2020</td><td>26.5</td></tr><tr><td>PRS30006152</td><td>2020</td><td>31.1</td></tr><tr><td>PRS30006153</td><td>2020</td><td>529.71</td></tr><tr><td>PRS30006161</td><td>2010</td><td>50.6</td></tr><tr><td>PRS30006162</td><td>2002</td><td>48.1</td></tr><tr><td>PRS30006163</td><td>2014</td><td>515.92</td></tr><tr><td>PRS30006171</td><td>2015</td><td>11.1</td></tr><tr><td>PRS30006172</td><td>2015</td><td>11.1</td></tr><tr><td>PRS30006173</td><td>2001</td><td>123.11</td></tr><tr><td>PRS30006211</td><td>2010</td><td>35.0</td></tr><tr><td>PRS30006212</td><td>1997</td><td>38.8</td></tr><tr><td>PRS30006213</td><td>2007</td><td>523.82</td></tr><tr><td>PRS30006221</td><td>2021</td><td>13.1</td></tr><tr><td>PRS30006222</td><td>2021</td><td>13.1</td></tr><tr><td>PRS30006223</td><td>2021</td><td>114.48</td></tr><tr><td>PRS30006231</td><td>2021</td><td>18.7</td></tr><tr><td>PRS30006232</td><td>2021</td><td>18.7</td></tr><tr><td>PRS30006233</td><td>2021</td><td>111.05</td></tr><tr><td>PRS31006011</td><td>2022</td><td>20.2</td></tr><tr><td>PRS31006012</td><td>2022</td><td>20.0</td></tr><tr><td>PRS31006013</td><td>1998</td><td>707.85</td></tr><tr><td>PRS31006021</td><td>2010</td><td>19.4</td></tr><tr><td>PRS31006022</td><td>2010</td><td>14.3</td></tr><tr><td>PRS31006023</td><td>1997</td><td>503.92</td></tr><tr><td>PRS31006031</td><td>2022</td><td>23.7</td></tr><tr><td>PRS31006032</td><td>2011</td><td>21.9</td></tr><tr><td>PRS31006033</td><td>1998</td><td>705.69</td></tr><tr><td>PRS31006061</td><td>2022</td><td>35.5</td></tr><tr><td>PRS31006062</td><td>2021</td><td>32.6</td></tr><tr><td>PRS31006063</td><td>2024</td><td>650.38</td></tr><tr><td>PRS31006081</td><td>2021</td><td>17.1</td></tr><tr><td>PRS31006082</td><td>2021</td><td>17.1</td></tr><tr><td>PRS31006083</td><td>2018</td><td>105.44</td></tr><tr><td>PRS31006091</td><td>2010</td><td>42.8</td></tr><tr><td>PRS31006092</td><td>2002</td><td>49.8</td></tr><tr><td>PRS31006093</td><td>2014</td><td>507.25</td></tr><tr><td>PRS31006101</td><td>2000</td><td>34.6</td></tr><tr><td>PRS31006102</td><td>2020</td><td>40.9</td></tr><tr><td>PRS31006103</td><td>2024</td><td>650.61</td></tr><tr><td>PRS31006111</td><td>2009</td><td>37.5</td></tr><tr><td>PRS31006112</td><td>2008</td><td>58.3</td></tr><tr><td>PRS31006113</td><td>2024</td><td>675.22</td></tr><tr><td>PRS31006131</td><td>2021</td><td>12.7</td></tr><tr><td>PRS31006132</td><td>2021</td><td>12.7</td></tr><tr><td>PRS31006133</td><td>2021</td><td>112.01</td></tr><tr><td>PRS31006151</td><td>2020</td><td>27.6</td></tr><tr><td>PRS31006152</td><td>2020</td><td>35.9</td></tr><tr><td>PRS31006153</td><td>2020</td><td>529.53</td></tr><tr><td>PRS31006161</td><td>2010</td><td>64.1</td></tr><tr><td>PRS31006162</td><td>2002</td><td>54.7</td></tr><tr><td>PRS31006163</td><td>2014</td><td>510.86</td></tr><tr><td>PRS31006171</td><td>2009</td><td>8.9</td></tr><tr><td>PRS31006172</td><td>2009</td><td>8.9</td></tr><tr><td>PRS31006173</td><td>2001</td><td>112.14</td></tr><tr><td>PRS31006211</td><td>1997</td><td>47.6</td></tr><tr><td>PRS31006212</td><td>1997</td><td>55.5</td></tr><tr><td>PRS31006213</td><td>2007</td><td>523.36</td></tr><tr><td>PRS31006221</td><td>2021</td><td>9.0</td></tr><tr><td>PRS31006222</td><td>2021</td><td>9.0</td></tr><tr><td>PRS31006223</td><td>2021</td><td>114.18</td></tr><tr><td>PRS31006231</td><td>2021</td><td>13.2</td></tr><tr><td>PRS31006232</td><td>2021</td><td>13.2</td></tr><tr><td>PRS31006233</td><td>2021</td><td>107.34</td></tr><tr><td>PRS32006011</td><td>2022</td><td>21.1</td></tr><tr><td>PRS32006012</td><td>2021</td><td>14.1</td></tr><tr><td>PRS32006013</td><td>1995</td><td>726.14</td></tr><tr><td>PRS32006021</td><td>2010</td><td>14.5</td></tr><tr><td>PRS32006022</td><td>2010</td><td>9.2</td></tr><tr><td>PRS32006023</td><td>2012</td><td>503.28</td></tr><tr><td>PRS32006031</td><td>2021</td><td>18.2</td></tr><tr><td>PRS32006032</td><td>2021</td><td>17.6</td></tr><tr><td>PRS32006033</td><td>1995</td><td>710.85</td></tr><tr><td>PRS32006061</td><td>2022</td><td>40.6</td></tr><tr><td>PRS32006062</td><td>2021</td><td>30.9</td></tr><tr><td>PRS32006063</td><td>2024</td><td>641.96</td></tr><tr><td>PRS32006081</td><td>2021</td><td>26.8</td></tr><tr><td>PRS32006082</td><td>2021</td><td>26.8</td></tr><tr><td>PRS32006083</td><td>2013</td><td>114.92</td></tr><tr><td>PRS32006091</td><td>2002</td><td>35.0</td></tr><tr><td>PRS32006092</td><td>2004</td><td>31.7</td></tr><tr><td>PRS32006093</td><td>2014</td><td>513.8</td></tr><tr><td>PRS32006101</td><td>2020</td><td>34.1</td></tr><tr><td>PRS32006102</td><td>2003</td><td>34.6</td></tr><tr><td>PRS32006103</td><td>2024</td><td>636.69</td></tr><tr><td>PRS32006111</td><td>2020</td><td>35.4</td></tr><tr><td>PRS32006112</td><td>2008</td><td>34.9</td></tr><tr><td>PRS32006113</td><td>2024</td><td>638.9</td></tr><tr><td>PRS32006131</td><td>2021</td><td>21.3</td></tr><tr><td>PRS32006132</td><td>2021</td><td>21.3</td></tr><tr><td>PRS32006133</td><td>2012</td><td>117.3</td></tr><tr><td>PRS32006151</td><td>2020</td><td>27.0</td></tr><tr><td>PRS32006152</td><td>2020</td><td>26.1</td></tr><tr><td>PRS32006153</td><td>2020</td><td>531.48</td></tr><tr><td>PRS32006161</td><td>2002</td><td>36.0</td></tr><tr><td>PRS32006162</td><td>2002</td><td>31.6</td></tr><tr><td>PRS32006163</td><td>2013</td><td>516.75</td></tr><tr><td>PRS32006171</td><td>2015</td><td>15.5</td></tr><tr><td>PRS32006172</td><td>2015</td><td>15.5</td></tr><tr><td>PRS32006173</td><td>1998</td><td>137.19</td></tr><tr><td>PRS32006211</td><td>2021</td><td>22.9</td></tr><tr><td>PRS32006212</td><td>2021</td><td>23.8</td></tr><tr><td>PRS32006213</td><td>2007</td><td>517.02</td></tr><tr><td>PRS32006221</td><td>2021</td><td>17.3</td></tr><tr><td>PRS32006222</td><td>2021</td><td>17.3</td></tr><tr><td>PRS32006223</td><td>2021</td><td>114.67</td></tr><tr><td>PRS32006231</td><td>2021</td><td>22.6</td></tr><tr><td>PRS32006232</td><td>2021</td><td>22.6</td></tr><tr><td>PRS32006233</td><td>2021</td><td>114.1</td></tr><tr><td>PRS84006011</td><td>2022</td><td>22.8</td></tr><tr><td>PRS84006012</td><td>2021</td><td>25.4</td></tr><tr><td>PRS84006013</td><td>2024</td><td>537.88</td></tr><tr><td>PRS84006021</td><td>2010</td><td>6.0</td></tr><tr><td>PRS84006022</td><td>2010</td><td>7.0</td></tr><tr><td>PRS84006023</td><td>1997</td><td>518.51</td></tr><tr><td>PRS84006031</td><td>2021</td><td>27.5</td></tr><tr><td>PRS84006032</td><td>2021</td><td>27.6</td></tr><tr><td>PRS84006033</td><td>2024</td><td>526.09</td></tr><tr><td>PRS84006041</td><td>2021</td><td>38.8</td></tr><tr><td>PRS84006042</td><td>2021</td><td>35.0</td></tr><tr><td>PRS84006043</td><td>2024</td><td>605.26</td></tr><tr><td>PRS84006051</td><td>2021</td><td>66.3</td></tr><tr><td>PRS84006052</td><td>2021</td><td>70.8</td></tr><tr><td>PRS84006053</td><td>2024</td><td>750.87</td></tr><tr><td>PRS84006061</td><td>2021</td><td>54.3</td></tr><tr><td>PRS84006062</td><td>2021</td><td>53.8</td></tr><tr><td>PRS84006063</td><td>2024</td><td>728.6</td></tr><tr><td>PRS84006081</td><td>2021</td><td>82.7</td></tr><tr><td>PRS84006082</td><td>2021</td><td>95.2</td></tr><tr><td>PRS84006083</td><td>2024</td><td>779.56</td></tr><tr><td>PRS84006091</td><td>2020</td><td>25.7</td></tr><tr><td>PRS84006092</td><td>2009</td><td>30.5</td></tr><tr><td>PRS84006093</td><td>2024</td><td>575.23</td></tr><tr><td>PRS84006101</td><td>2020</td><td>40.3</td></tr><tr><td>PRS84006102</td><td>2020</td><td>47.6</td></tr><tr><td>PRS84006103</td><td>2024</td><td>692.46</td></tr><tr><td>PRS84006111</td><td>2022</td><td>26.1</td></tr><tr><td>PRS84006112</td><td>2012</td><td>24.0</td></tr><tr><td>PRS84006113</td><td>2024</td><td>601.89</td></tr><tr><td>PRS84006131</td><td>2022</td><td>58.0</td></tr><tr><td>PRS84006132</td><td>2022</td><td>56.6</td></tr><tr><td>PRS84006133</td><td>2024</td><td>643.93</td></tr><tr><td>PRS84006141</td><td>2022</td><td>40.0</td></tr><tr><td>PRS84006142</td><td>2022</td><td>36.5</td></tr><tr><td>PRS84006143</td><td>2024</td><td>620.26</td></tr><tr><td>PRS84006151</td><td>2020</td><td>33.2</td></tr><tr><td>PRS84006152</td><td>2020</td><td>41.9</td></tr><tr><td>PRS84006153</td><td>2021</td><td>550.31</td></tr><tr><td>PRS84006161</td><td>2010</td><td>21.9</td></tr><tr><td>PRS84006162</td><td>2020</td><td>26.1</td></tr><tr><td>PRS84006163</td><td>2024</td><td>562.63</td></tr><tr><td>PRS84006171</td><td>2020</td><td>12.2</td></tr><tr><td>PRS84006172</td><td>2020</td><td>18.2</td></tr><tr><td>PRS84006173</td><td>2001</td><td>559.66</td></tr><tr><td>PRS85006011</td><td>2022</td><td>23.2</td></tr><tr><td>PRS85006012</td><td>2021</td><td>26.3</td></tr><tr><td>PRS85006013</td><td>2024</td><td>539.02</td></tr><tr><td>PRS85006021</td><td>2010</td><td>6.1</td></tr><tr><td>PRS85006022</td><td>2010</td><td>7.2</td></tr><tr><td>PRS85006023</td><td>1997</td><td>519.09</td></tr><tr><td>PRS85006031</td><td>2021</td><td>28.2</td></tr><tr><td>PRS85006032</td><td>2021</td><td>29.0</td></tr><tr><td>PRS85006033</td><td>2024</td><td>527.44</td></tr><tr><td>PRS85006041</td><td>2021</td><td>38.7</td></tr><tr><td>PRS85006042</td><td>2021</td><td>34.9</td></tr><tr><td>PRS85006043</td><td>2024</td><td>605.53</td></tr><tr><td>PRS85006051</td><td>2021</td><td>64.6</td></tr><tr><td>PRS85006052</td><td>2021</td><td>69.7</td></tr><tr><td>PRS85006053</td><td>2024</td><td>751.18</td></tr><tr><td>PRS85006061</td><td>2021</td><td>54.5</td></tr><tr><td>PRS85006062</td><td>2021</td><td>54.0</td></tr><tr><td>PRS85006063</td><td>2024</td><td>729.2</td></tr><tr><td>PRS85006081</td><td>2021</td><td>78.9</td></tr><tr><td>PRS85006082</td><td>2021</td><td>92.6</td></tr><tr><td>PRS85006083</td><td>2024</td><td>779.74</td></tr><tr><td>PRS85006091</td><td>2020</td><td>26.2</td></tr><tr><td>PRS85006092</td><td>2009</td><td>30.1</td></tr><tr><td>PRS85006093</td><td>2024</td><td>574.03</td></tr><tr><td>PRS85006101</td><td>2020</td><td>40.8</td></tr><tr><td>PRS85006102</td><td>2020</td><td>48.4</td></tr><tr><td>PRS85006103</td><td>2024</td><td>691.26</td></tr><tr><td>PRS85006111</td><td>2022</td><td>25.6</td></tr><tr><td>PRS85006112</td><td>2012</td><td>22.7</td></tr><tr><td>PRS85006113</td><td>2024</td><td>602.12</td></tr><tr><td>PRS85006131</td><td>2022</td><td>56.1</td></tr><tr><td>PRS85006132</td><td>2022</td><td>53.9</td></tr><tr><td>PRS85006133</td><td>2024</td><td>643.8</td></tr><tr><td>PRS85006141</td><td>2022</td><td>38.7</td></tr><tr><td>PRS85006142</td><td>2022</td><td>34.8</td></tr><tr><td>PRS85006143</td><td>2024</td><td>620.25</td></tr><tr><td>PRS85006151</td><td>2020</td><td>33.8</td></tr><tr><td>PRS85006152</td><td>2020</td><td>42.7</td></tr><tr><td>PRS85006153</td><td>2021</td><td>550.3</td></tr><tr><td>PRS85006161</td><td>2010</td><td>22.4</td></tr><tr><td>PRS85006162</td><td>2020</td><td>26.3</td></tr><tr><td>PRS85006163</td><td>2024</td><td>561.69</td></tr><tr><td>PRS85006171</td><td>2020</td><td>12.0</td></tr><tr><td>PRS85006172</td><td>2020</td><td>18.3</td></tr><tr><td>PRS85006173</td><td>2001</td><td>558.58</td></tr><tr><td>PRS88003011</td><td>2022</td><td>25.2</td></tr><tr><td>PRS88003012</td><td>2021</td><td>26.2</td></tr><tr><td>PRS88003013</td><td>2024</td><td>540.37</td></tr><tr><td>PRS88003021</td><td>2010</td><td>6.4</td></tr><tr><td>PRS88003022</td><td>2010</td><td>7.6</td></tr><tr><td>PRS88003023</td><td>1997</td><td>517.82</td></tr><tr><td>PRS88003031</td><td>2021</td><td>26.1</td></tr><tr><td>PRS88003032</td><td>2021</td><td>27.3</td></tr><tr><td>PRS88003033</td><td>2024</td><td>529.82</td></tr><tr><td>PRS88003041</td><td>2021</td><td>49.6</td></tr><tr><td>PRS88003042</td><td>2021</td><td>39.1</td></tr><tr><td>PRS88003043</td><td>2024</td><td>617.69</td></tr><tr><td>PRS88003051</td><td>2021</td><td>75.9</td></tr><tr><td>PRS88003052</td><td>2021</td><td>73.3</td></tr><tr><td>PRS88003053</td><td>2024</td><td>765.1</td></tr><tr><td>PRS88003061</td><td>2021</td><td>51.8</td></tr><tr><td>PRS88003062</td><td>2021</td><td>53.8</td></tr><tr><td>PRS88003063</td><td>2024</td><td>739.9</td></tr><tr><td>PRS88003081</td><td>2021</td><td>113.6</td></tr><tr><td>PRS88003082</td><td>2021</td><td>103.9</td></tr><tr><td>PRS88003083</td><td>2024</td><td>800.79</td></tr><tr><td>PRS88003091</td><td>2021</td><td>22.3</td></tr><tr><td>PRS88003092</td><td>2020</td><td>24.8</td></tr><tr><td>PRS88003093</td><td>2024</td><td>582.91</td></tr><tr><td>PRS88003101</td><td>2020</td><td>39.7</td></tr><tr><td>PRS88003102</td><td>2020</td><td>46.5</td></tr><tr><td>PRS88003103</td><td>2024</td><td>698.24</td></tr><tr><td>PRS88003111</td><td>2020</td><td>22.3</td></tr><tr><td>PRS88003112</td><td>2020</td><td>20.5</td></tr><tr><td>PRS88003113</td><td>2024</td><td>598.93</td></tr><tr><td>PRS88003121</td><td>2022</td><td>76.2</td></tr><tr><td>PRS88003122</td><td>2022</td><td>60.0</td></tr><tr><td>PRS88003123</td><td>2024</td><td>551.3</td></tr><tr><td>PRS88003131</td><td>2022</td><td>59.1</td></tr><tr><td>PRS88003132</td><td>2021</td><td>59.9</td></tr><tr><td>PRS88003133</td><td>2024</td><td>648.18</td></tr><tr><td>PRS88003141</td><td>2022</td><td>36.9</td></tr><tr><td>PRS88003142</td><td>2022</td><td>32.5</td></tr><tr><td>PRS88003143</td><td>2024</td><td>619.32</td></tr><tr><td>PRS88003151</td><td>2020</td><td>32.6</td></tr><tr><td>PRS88003152</td><td>2020</td><td>41.2</td></tr><tr><td>PRS88003153</td><td>2021</td><td>550.06</td></tr><tr><td>PRS88003161</td><td>2010</td><td>27.3</td></tr><tr><td>PRS88003162</td><td>2020</td><td>27.1</td></tr><tr><td>PRS88003163</td><td>2024</td><td>571.54</td></tr><tr><td>PRS88003171</td><td>2020</td><td>15.2</td></tr><tr><td>PRS88003172</td><td>2020</td><td>14.5</td></tr><tr><td>PRS88003173</td><td>2001</td><td>558.63</td></tr><tr><td>PRS88003181</td><td>2021</td><td>209.8</td></tr><tr><td>PRS88003182</td><td>2002</td><td>308.0</td></tr><tr><td>PRS88003183</td><td>2024</td><td>1064.21</td></tr><tr><td>PRS88003191</td><td>2010</td><td>153.0</td></tr><tr><td>PRS88003192</td><td>2002</td><td>282.8</td></tr><tr><td>PRS88003193</td><td>2024</td><td>861.35</td></tr><tr><td>PRS88003201</td><td>2022</td><td>37.2</td></tr><tr><td>PRS88003202</td><td>2022</td><td>28.7</td></tr><tr><td>PRS88003203</td><td>2024</td><td>583.37</td></tr></tbody></table></div>"
      ]
     },
     "metadata": {
      "application/vnd.databricks.v1+output": {
       "addedWidgets": {},
       "aggData": [],
       "aggError": "",
       "aggOverflow": false,
       "aggSchema": [],
       "aggSeriesLimitReached": false,
       "aggType": "",
       "arguments": {},
       "columnCustomDisplayInfos": {},
       "data": [
        [
         "PRS30006011",
         2022,
         20.5
        ],
        [
         "PRS30006012",
         2022,
         17.1
        ],
        [
         "PRS30006013",
         1998,
         705.9
        ],
        [
         "PRS30006021",
         2010,
         17.7
        ],
        [
         "PRS30006022",
         2010,
         12.4
        ],
        [
         "PRS30006023",
         2014,
         503.22
        ],
        [
         "PRS30006031",
         2022,
         20.5
        ],
        [
         "PRS30006032",
         2021,
         17.1
        ],
        [
         "PRS30006033",
         1998,
         702.67
        ],
        [
         "PRS30006061",
         2022,
         37
        ],
        [
         "PRS30006062",
         2021,
         31.6
        ],
        [
         "PRS30006063",
         2024,
         647.52
        ],
        [
         "PRS30006081",
         2021,
         24.4
        ],
        [
         "PRS30006082",
         2021,
         24.4
        ],
        [
         "PRS30006083",
         2021,
         110.74
        ],
        [
         "PRS30006091",
         2002,
         43.3
        ],
        [
         "PRS30006092",
         2002,
         44.4
        ],
        [
         "PRS30006093",
         2013,
         514.16
        ],
        [
         "PRS30006101",
         2020,
         33.5
        ],
        [
         "PRS30006102",
         2020,
         36.2
        ],
        [
         "PRS30006103",
         2024,
         645.69
        ],
        [
         "PRS30006111",
         2020,
         34.2
        ],
        [
         "PRS30006112",
         2008,
         42.7
        ],
        [
         "PRS30006113",
         2024,
         654.93
        ],
        [
         "PRS30006131",
         2021,
         18.5
        ],
        [
         "PRS30006132",
         2021,
         18.5
        ],
        [
         "PRS30006133",
         2021,
         114.16
        ],
        [
         "PRS30006151",
         2020,
         26.5
        ],
        [
         "PRS30006152",
         2020,
         31.1
        ],
        [
         "PRS30006153",
         2020,
         529.71
        ],
        [
         "PRS30006161",
         2010,
         50.6
        ],
        [
         "PRS30006162",
         2002,
         48.1
        ],
        [
         "PRS30006163",
         2014,
         515.92
        ],
        [
         "PRS30006171",
         2015,
         11.1
        ],
        [
         "PRS30006172",
         2015,
         11.1
        ],
        [
         "PRS30006173",
         2001,
         123.11
        ],
        [
         "PRS30006211",
         2010,
         35
        ],
        [
         "PRS30006212",
         1997,
         38.8
        ],
        [
         "PRS30006213",
         2007,
         523.82
        ],
        [
         "PRS30006221",
         2021,
         13.1
        ],
        [
         "PRS30006222",
         2021,
         13.1
        ],
        [
         "PRS30006223",
         2021,
         114.48
        ],
        [
         "PRS30006231",
         2021,
         18.7
        ],
        [
         "PRS30006232",
         2021,
         18.7
        ],
        [
         "PRS30006233",
         2021,
         111.05
        ],
        [
         "PRS31006011",
         2022,
         20.2
        ],
        [
         "PRS31006012",
         2022,
         20
        ],
        [
         "PRS31006013",
         1998,
         707.85
        ],
        [
         "PRS31006021",
         2010,
         19.4
        ],
        [
         "PRS31006022",
         2010,
         14.3
        ],
        [
         "PRS31006023",
         1997,
         503.92
        ],
        [
         "PRS31006031",
         2022,
         23.7
        ],
        [
         "PRS31006032",
         2011,
         21.9
        ],
        [
         "PRS31006033",
         1998,
         705.69
        ],
        [
         "PRS31006061",
         2022,
         35.5
        ],
        [
         "PRS31006062",
         2021,
         32.6
        ],
        [
         "PRS31006063",
         2024,
         650.38
        ],
        [
         "PRS31006081",
         2021,
         17.1
        ],
        [
         "PRS31006082",
         2021,
         17.1
        ],
        [
         "PRS31006083",
         2018,
         105.44
        ],
        [
         "PRS31006091",
         2010,
         42.8
        ],
        [
         "PRS31006092",
         2002,
         49.8
        ],
        [
         "PRS31006093",
         2014,
         507.25
        ],
        [
         "PRS31006101",
         2000,
         34.6
        ],
        [
         "PRS31006102",
         2020,
         40.9
        ],
        [
         "PRS31006103",
         2024,
         650.61
        ],
        [
         "PRS31006111",
         2009,
         37.5
        ],
        [
         "PRS31006112",
         2008,
         58.3
        ],
        [
         "PRS31006113",
         2024,
         675.22
        ],
        [
         "PRS31006131",
         2021,
         12.7
        ],
        [
         "PRS31006132",
         2021,
         12.7
        ],
        [
         "PRS31006133",
         2021,
         112.01
        ],
        [
         "PRS31006151",
         2020,
         27.6
        ],
        [
         "PRS31006152",
         2020,
         35.9
        ],
        [
         "PRS31006153",
         2020,
         529.53
        ],
        [
         "PRS31006161",
         2010,
         64.1
        ],
        [
         "PRS31006162",
         2002,
         54.7
        ],
        [
         "PRS31006163",
         2014,
         510.86
        ],
        [
         "PRS31006171",
         2009,
         8.9
        ],
        [
         "PRS31006172",
         2009,
         8.9
        ],
        [
         "PRS31006173",
         2001,
         112.14
        ],
        [
         "PRS31006211",
         1997,
         47.6
        ],
        [
         "PRS31006212",
         1997,
         55.5
        ],
        [
         "PRS31006213",
         2007,
         523.36
        ],
        [
         "PRS31006221",
         2021,
         9
        ],
        [
         "PRS31006222",
         2021,
         9
        ],
        [
         "PRS31006223",
         2021,
         114.18
        ],
        [
         "PRS31006231",
         2021,
         13.2
        ],
        [
         "PRS31006232",
         2021,
         13.2
        ],
        [
         "PRS31006233",
         2021,
         107.34
        ],
        [
         "PRS32006011",
         2022,
         21.1
        ],
        [
         "PRS32006012",
         2021,
         14.1
        ],
        [
         "PRS32006013",
         1995,
         726.14
        ],
        [
         "PRS32006021",
         2010,
         14.5
        ],
        [
         "PRS32006022",
         2010,
         9.2
        ],
        [
         "PRS32006023",
         2012,
         503.28
        ],
        [
         "PRS32006031",
         2021,
         18.2
        ],
        [
         "PRS32006032",
         2021,
         17.6
        ],
        [
         "PRS32006033",
         1995,
         710.85
        ],
        [
         "PRS32006061",
         2022,
         40.6
        ],
        [
         "PRS32006062",
         2021,
         30.9
        ],
        [
         "PRS32006063",
         2024,
         641.96
        ],
        [
         "PRS32006081",
         2021,
         26.8
        ],
        [
         "PRS32006082",
         2021,
         26.8
        ],
        [
         "PRS32006083",
         2013,
         114.92
        ],
        [
         "PRS32006091",
         2002,
         35
        ],
        [
         "PRS32006092",
         2004,
         31.7
        ],
        [
         "PRS32006093",
         2014,
         513.8
        ],
        [
         "PRS32006101",
         2020,
         34.1
        ],
        [
         "PRS32006102",
         2003,
         34.6
        ],
        [
         "PRS32006103",
         2024,
         636.69
        ],
        [
         "PRS32006111",
         2020,
         35.4
        ],
        [
         "PRS32006112",
         2008,
         34.9
        ],
        [
         "PRS32006113",
         2024,
         638.9
        ],
        [
         "PRS32006131",
         2021,
         21.3
        ],
        [
         "PRS32006132",
         2021,
         21.3
        ],
        [
         "PRS32006133",
         2012,
         117.3
        ],
        [
         "PRS32006151",
         2020,
         27
        ],
        [
         "PRS32006152",
         2020,
         26.1
        ],
        [
         "PRS32006153",
         2020,
         531.48
        ],
        [
         "PRS32006161",
         2002,
         36
        ],
        [
         "PRS32006162",
         2002,
         31.6
        ],
        [
         "PRS32006163",
         2013,
         516.75
        ],
        [
         "PRS32006171",
         2015,
         15.5
        ],
        [
         "PRS32006172",
         2015,
         15.5
        ],
        [
         "PRS32006173",
         1998,
         137.19
        ],
        [
         "PRS32006211",
         2021,
         22.9
        ],
        [
         "PRS32006212",
         2021,
         23.8
        ],
        [
         "PRS32006213",
         2007,
         517.02
        ],
        [
         "PRS32006221",
         2021,
         17.3
        ],
        [
         "PRS32006222",
         2021,
         17.3
        ],
        [
         "PRS32006223",
         2021,
         114.67
        ],
        [
         "PRS32006231",
         2021,
         22.6
        ],
        [
         "PRS32006232",
         2021,
         22.6
        ],
        [
         "PRS32006233",
         2021,
         114.1
        ],
        [
         "PRS84006011",
         2022,
         22.8
        ],
        [
         "PRS84006012",
         2021,
         25.4
        ],
        [
         "PRS84006013",
         2024,
         537.88
        ],
        [
         "PRS84006021",
         2010,
         6
        ],
        [
         "PRS84006022",
         2010,
         7
        ],
        [
         "PRS84006023",
         1997,
         518.51
        ],
        [
         "PRS84006031",
         2021,
         27.5
        ],
        [
         "PRS84006032",
         2021,
         27.6
        ],
        [
         "PRS84006033",
         2024,
         526.09
        ],
        [
         "PRS84006041",
         2021,
         38.8
        ],
        [
         "PRS84006042",
         2021,
         35
        ],
        [
         "PRS84006043",
         2024,
         605.26
        ],
        [
         "PRS84006051",
         2021,
         66.3
        ],
        [
         "PRS84006052",
         2021,
         70.8
        ],
        [
         "PRS84006053",
         2024,
         750.87
        ],
        [
         "PRS84006061",
         2021,
         54.3
        ],
        [
         "PRS84006062",
         2021,
         53.8
        ],
        [
         "PRS84006063",
         2024,
         728.6
        ],
        [
         "PRS84006081",
         2021,
         82.7
        ],
        [
         "PRS84006082",
         2021,
         95.2
        ],
        [
         "PRS84006083",
         2024,
         779.56
        ],
        [
         "PRS84006091",
         2020,
         25.7
        ],
        [
         "PRS84006092",
         2009,
         30.5
        ],
        [
         "PRS84006093",
         2024,
         575.23
        ],
        [
         "PRS84006101",
         2020,
         40.3
        ],
        [
         "PRS84006102",
         2020,
         47.6
        ],
        [
         "PRS84006103",
         2024,
         692.46
        ],
        [
         "PRS84006111",
         2022,
         26.1
        ],
        [
         "PRS84006112",
         2012,
         24
        ],
        [
         "PRS84006113",
         2024,
         601.89
        ],
        [
         "PRS84006131",
         2022,
         58
        ],
        [
         "PRS84006132",
         2022,
         56.6
        ],
        [
         "PRS84006133",
         2024,
         643.93
        ],
        [
         "PRS84006141",
         2022,
         40
        ],
        [
         "PRS84006142",
         2022,
         36.5
        ],
        [
         "PRS84006143",
         2024,
         620.26
        ],
        [
         "PRS84006151",
         2020,
         33.2
        ],
        [
         "PRS84006152",
         2020,
         41.9
        ],
        [
         "PRS84006153",
         2021,
         550.31
        ],
        [
         "PRS84006161",
         2010,
         21.9
        ],
        [
         "PRS84006162",
         2020,
         26.1
        ],
        [
         "PRS84006163",
         2024,
         562.63
        ],
        [
         "PRS84006171",
         2020,
         12.2
        ],
        [
         "PRS84006172",
         2020,
         18.2
        ],
        [
         "PRS84006173",
         2001,
         559.66
        ],
        [
         "PRS85006011",
         2022,
         23.2
        ],
        [
         "PRS85006012",
         2021,
         26.3
        ],
        [
         "PRS85006013",
         2024,
         539.02
        ],
        [
         "PRS85006021",
         2010,
         6.1
        ],
        [
         "PRS85006022",
         2010,
         7.2
        ],
        [
         "PRS85006023",
         1997,
         519.09
        ],
        [
         "PRS85006031",
         2021,
         28.2
        ],
        [
         "PRS85006032",
         2021,
         29
        ],
        [
         "PRS85006033",
         2024,
         527.44
        ],
        [
         "PRS85006041",
         2021,
         38.7
        ],
        [
         "PRS85006042",
         2021,
         34.9
        ],
        [
         "PRS85006043",
         2024,
         605.53
        ],
        [
         "PRS85006051",
         2021,
         64.6
        ],
        [
         "PRS85006052",
         2021,
         69.7
        ],
        [
         "PRS85006053",
         2024,
         751.18
        ],
        [
         "PRS85006061",
         2021,
         54.5
        ],
        [
         "PRS85006062",
         2021,
         54
        ],
        [
         "PRS85006063",
         2024,
         729.2
        ],
        [
         "PRS85006081",
         2021,
         78.9
        ],
        [
         "PRS85006082",
         2021,
         92.6
        ],
        [
         "PRS85006083",
         2024,
         779.74
        ],
        [
         "PRS85006091",
         2020,
         26.2
        ],
        [
         "PRS85006092",
         2009,
         30.1
        ],
        [
         "PRS85006093",
         2024,
         574.03
        ],
        [
         "PRS85006101",
         2020,
         40.8
        ],
        [
         "PRS85006102",
         2020,
         48.4
        ],
        [
         "PRS85006103",
         2024,
         691.26
        ],
        [
         "PRS85006111",
         2022,
         25.6
        ],
        [
         "PRS85006112",
         2012,
         22.7
        ],
        [
         "PRS85006113",
         2024,
         602.12
        ],
        [
         "PRS85006131",
         2022,
         56.1
        ],
        [
         "PRS85006132",
         2022,
         53.9
        ],
        [
         "PRS85006133",
         2024,
         643.8
        ],
        [
         "PRS85006141",
         2022,
         38.7
        ],
        [
         "PRS85006142",
         2022,
         34.8
        ],
        [
         "PRS85006143",
         2024,
         620.25
        ],
        [
         "PRS85006151",
         2020,
         33.8
        ],
        [
         "PRS85006152",
         2020,
         42.7
        ],
        [
         "PRS85006153",
         2021,
         550.3
        ],
        [
         "PRS85006161",
         2010,
         22.4
        ],
        [
         "PRS85006162",
         2020,
         26.3
        ],
        [
         "PRS85006163",
         2024,
         561.69
        ],
        [
         "PRS85006171",
         2020,
         12
        ],
        [
         "PRS85006172",
         2020,
         18.3
        ],
        [
         "PRS85006173",
         2001,
         558.58
        ],
        [
         "PRS88003011",
         2022,
         25.2
        ],
        [
         "PRS88003012",
         2021,
         26.2
        ],
        [
         "PRS88003013",
         2024,
         540.37
        ],
        [
         "PRS88003021",
         2010,
         6.4
        ],
        [
         "PRS88003022",
         2010,
         7.6
        ],
        [
         "PRS88003023",
         1997,
         517.82
        ],
        [
         "PRS88003031",
         2021,
         26.1
        ],
        [
         "PRS88003032",
         2021,
         27.3
        ],
        [
         "PRS88003033",
         2024,
         529.82
        ],
        [
         "PRS88003041",
         2021,
         49.6
        ],
        [
         "PRS88003042",
         2021,
         39.1
        ],
        [
         "PRS88003043",
         2024,
         617.69
        ],
        [
         "PRS88003051",
         2021,
         75.9
        ],
        [
         "PRS88003052",
         2021,
         73.3
        ],
        [
         "PRS88003053",
         2024,
         765.1
        ],
        [
         "PRS88003061",
         2021,
         51.8
        ],
        [
         "PRS88003062",
         2021,
         53.8
        ],
        [
         "PRS88003063",
         2024,
         739.9
        ],
        [
         "PRS88003081",
         2021,
         113.6
        ],
        [
         "PRS88003082",
         2021,
         103.9
        ],
        [
         "PRS88003083",
         2024,
         800.79
        ],
        [
         "PRS88003091",
         2021,
         22.3
        ],
        [
         "PRS88003092",
         2020,
         24.8
        ],
        [
         "PRS88003093",
         2024,
         582.91
        ],
        [
         "PRS88003101",
         2020,
         39.7
        ],
        [
         "PRS88003102",
         2020,
         46.5
        ],
        [
         "PRS88003103",
         2024,
         698.24
        ],
        [
         "PRS88003111",
         2020,
         22.3
        ],
        [
         "PRS88003112",
         2020,
         20.5
        ],
        [
         "PRS88003113",
         2024,
         598.93
        ],
        [
         "PRS88003121",
         2022,
         76.2
        ],
        [
         "PRS88003122",
         2022,
         60
        ],
        [
         "PRS88003123",
         2024,
         551.3
        ],
        [
         "PRS88003131",
         2022,
         59.1
        ],
        [
         "PRS88003132",
         2021,
         59.9
        ],
        [
         "PRS88003133",
         2024,
         648.18
        ],
        [
         "PRS88003141",
         2022,
         36.9
        ],
        [
         "PRS88003142",
         2022,
         32.5
        ],
        [
         "PRS88003143",
         2024,
         619.32
        ],
        [
         "PRS88003151",
         2020,
         32.6
        ],
        [
         "PRS88003152",
         2020,
         41.2
        ],
        [
         "PRS88003153",
         2021,
         550.06
        ],
        [
         "PRS88003161",
         2010,
         27.3
        ],
        [
         "PRS88003162",
         2020,
         27.1
        ],
        [
         "PRS88003163",
         2024,
         571.54
        ],
        [
         "PRS88003171",
         2020,
         15.2
        ],
        [
         "PRS88003172",
         2020,
         14.5
        ],
        [
         "PRS88003173",
         2001,
         558.63
        ],
        [
         "PRS88003181",
         2021,
         209.8
        ],
        [
         "PRS88003182",
         2002,
         308
        ],
        [
         "PRS88003183",
         2024,
         1064.21
        ],
        [
         "PRS88003191",
         2010,
         153
        ],
        [
         "PRS88003192",
         2002,
         282.8
        ],
        [
         "PRS88003193",
         2024,
         861.35
        ],
        [
         "PRS88003201",
         2022,
         37.2
        ],
        [
         "PRS88003202",
         2022,
         28.7
        ],
        [
         "PRS88003203",
         2024,
         583.37
        ]
       ],
       "datasetInfos": [],
       "dbfsResultPath": null,
       "isJsonSchema": true,
       "metadata": {},
       "overflow": false,
       "plotOptions": {
        "customPlotOptions": {},
        "displayType": "table",
        "pivotAggregation": null,
        "pivotColumns": null,
        "xColumns": null,
        "yColumns": null
       },
       "removedWidgets": [],
       "schema": [
        {
         "metadata": "{}",
         "name": "series_id",
         "type": "\"string\""
        },
        {
         "metadata": "{}",
         "name": "year",
         "type": "\"integer\""
        },
        {
         "metadata": "{}",
         "name": "yearly_sum",
         "type": "\"double\""
        }
       ],
       "type": "table"
      }
     },
     "output_type": "display_data"
    }
   ],
   "source": [
    "# Aggregate total value by series_id/year\n",
    "bls_yearly = bls_df.groupBy(\"series_id\", \"year\").sum(\"value\").withColumnRenamed(\"sum(value)\", \"yearly_sum\")\n",
    "\n",
    "# Round yearly_sum to 2 decimal places\n",
    "bls_yearly = bls_yearly.withColumn(\"yearly_sum\", round(col(\"yearly_sum\"), 2))\n",
    "\n",
    "# Rank and extract top year per series_id\n",
    "window_spec = Window.partitionBy(\"series_id\").orderBy(col(\"yearly_sum\").desc())\n",
    "best_years_df = bls_yearly.withColumn(\"rank\", row_number().over(window_spec)).filter(col(\"rank\") == 1).drop(\"rank\")\n",
    "\n",
    "best_years_df.display()"
   ]
  },
  {
   "cell_type": "markdown",
   "metadata": {
    "application/vnd.databricks.v1+cell": {
     "cellMetadata": {
      "byteLimit": 2048000,
      "rowLimit": 10000
     },
     "inputWidgets": {},
     "nuid": "3198e093-285b-4fbb-93a0-e2f2093637c5",
     "showTitle": false,
     "tableResultSettingsMap": {},
     "title": ""
    }
   },
   "source": [
    "### Task 3: Join PRS30006032 Q01 with Population"
   ]
  },
  {
   "cell_type": "code",
   "execution_count": 0,
   "metadata": {
    "application/vnd.databricks.v1+cell": {
     "cellMetadata": {
      "byteLimit": 2048000,
      "rowLimit": 10000
     },
     "inputWidgets": {},
     "nuid": "996cc842-dc0a-468f-a882-0835b915cb0b",
     "showTitle": false,
     "tableResultSettingsMap": {},
     "title": ""
    }
   },
   "outputs": [
    {
     "data": {
      "text/html": [
       "<style scoped>\n",
       "  .table-result-container {\n",
       "    max-height: 300px;\n",
       "    overflow: auto;\n",
       "  }\n",
       "  table, th, td {\n",
       "    border: 1px solid black;\n",
       "    border-collapse: collapse;\n",
       "  }\n",
       "  th, td {\n",
       "    padding: 5px;\n",
       "  }\n",
       "  th {\n",
       "    text-align: left;\n",
       "  }\n",
       "</style><div class='table-result-container'><table class='table-result'><thead style='background-color: white'><tr><th>series_id</th><th>year</th><th>period</th><th>value</th><th>population</th></tr></thead><tbody><tr><td>PRS30006032</td><td>2013</td><td>Q01</td><td>0.5</td><td>311536594</td></tr><tr><td>PRS30006032</td><td>2014</td><td>Q01</td><td>-0.1</td><td>314107084</td></tr><tr><td>PRS30006032</td><td>2015</td><td>Q01</td><td>-1.7</td><td>316515021</td></tr><tr><td>PRS30006032</td><td>2016</td><td>Q01</td><td>-1.4</td><td>318558162</td></tr><tr><td>PRS30006032</td><td>2017</td><td>Q01</td><td>0.9</td><td>321004407</td></tr><tr><td>PRS30006032</td><td>2018</td><td>Q01</td><td>0.5</td><td>322903030</td></tr><tr><td>PRS30006032</td><td>2019</td><td>Q01</td><td>-1.6</td><td>324697795</td></tr><tr><td>PRS30006032</td><td>2020</td><td>Q01</td><td>-7.0</td><td>326569308</td></tr><tr><td>PRS30006032</td><td>2021</td><td>Q01</td><td>0.7</td><td>329725481</td></tr><tr><td>PRS30006032</td><td>2022</td><td>Q01</td><td>5.3</td><td>331097593</td></tr><tr><td>PRS30006032</td><td>2023</td><td>Q01</td><td>0.3</td><td>332387540</td></tr></tbody></table></div>"
      ]
     },
     "metadata": {
      "application/vnd.databricks.v1+output": {
       "addedWidgets": {},
       "aggData": [],
       "aggError": "",
       "aggOverflow": false,
       "aggSchema": [],
       "aggSeriesLimitReached": false,
       "aggType": "",
       "arguments": {},
       "columnCustomDisplayInfos": {},
       "data": [
        [
         "PRS30006032",
         2013,
         "Q01",
         0.5,
         311536594
        ],
        [
         "PRS30006032",
         2014,
         "Q01",
         -0.1,
         314107084
        ],
        [
         "PRS30006032",
         2015,
         "Q01",
         -1.7,
         316515021
        ],
        [
         "PRS30006032",
         2016,
         "Q01",
         -1.4,
         318558162
        ],
        [
         "PRS30006032",
         2017,
         "Q01",
         0.9,
         321004407
        ],
        [
         "PRS30006032",
         2018,
         "Q01",
         0.5,
         322903030
        ],
        [
         "PRS30006032",
         2019,
         "Q01",
         -1.6,
         324697795
        ],
        [
         "PRS30006032",
         2020,
         "Q01",
         -7,
         326569308
        ],
        [
         "PRS30006032",
         2021,
         "Q01",
         0.7,
         329725481
        ],
        [
         "PRS30006032",
         2022,
         "Q01",
         5.3,
         331097593
        ],
        [
         "PRS30006032",
         2023,
         "Q01",
         0.3,
         332387540
        ]
       ],
       "datasetInfos": [],
       "dbfsResultPath": null,
       "isJsonSchema": true,
       "metadata": {},
       "overflow": false,
       "plotOptions": {
        "customPlotOptions": {},
        "displayType": "table",
        "pivotAggregation": null,
        "pivotColumns": null,
        "xColumns": null,
        "yColumns": null
       },
       "removedWidgets": [],
       "schema": [
        {
         "metadata": "{}",
         "name": "series_id",
         "type": "\"string\""
        },
        {
         "metadata": "{}",
         "name": "year",
         "type": "\"integer\""
        },
        {
         "metadata": "{}",
         "name": "period",
         "type": "\"string\""
        },
        {
         "metadata": "{}",
         "name": "value",
         "type": "\"double\""
        },
        {
         "metadata": "{}",
         "name": "population",
         "type": "\"integer\""
        }
       ],
       "type": "table"
      }
     },
     "output_type": "display_data"
    }
   ],
   "source": [
    "target_df = bls_df.filter((col(\"series_id\") == \"PRS30006032\") & (col(\"period\") == \"Q01\"))\n",
    "joined_df = target_df.join(population_df, on=\"year\", how=\"inner\")\n",
    "\n",
    "final_result_df = joined_df.select(\"series_id\", \"year\", \"period\", \"value\", \"population\")\n",
    "final_result_df.display()"
   ]
  }
 ],
 "metadata": {
  "application/vnd.databricks.v1+notebook": {
   "computePreferences": null,
   "dashboards": [],
   "environmentMetadata": {
    "base_environment": "",
    "environment_version": "1"
   },
   "inputWidgetPreferences": null,
   "language": "python",
   "notebookMetadata": {
    "mostRecentlyExecutedCommandWithImplicitDF": {
     "commandId": 1609779547468994,
     "dataframes": [
      "_sqldf"
     ]
    },
    "pythonIndentUnit": 4
   },
   "notebookName": "Quest Analysis - Brandon Young",
   "widgets": {}
  },
  "kernelspec": {
   "display_name": "Python 3",
   "language": "python",
   "name": "python3"
  },
  "language_info": {
   "name": "python",
   "version": "3.9.12"
  }
 },
 "nbformat": 4,
 "nbformat_minor": 0
}
